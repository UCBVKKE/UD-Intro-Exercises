{
 "cells": [
  {
   "cell_type": "markdown",
   "id": "38e188a5",
   "metadata": {},
   "source": [
    "# Exercise 00\n",
    "Write a piece of code that allocates a list of 20 integers and initializes each element by its index multiplied by 5. Print the result."
   ]
  },
  {
   "cell_type": "code",
   "execution_count": 2,
   "id": "01aa4f35",
   "metadata": {},
   "outputs": [
    {
     "name": "stdout",
     "output_type": "stream",
     "text": [
      "[0, 5, 10, 15, 20, 25, 30, 35, 40, 45, 50, 55, 60, 65, 70, 75, 80, 85, 90, 95]\n"
     ]
    }
   ],
   "source": [
    "numbers = [i * 5 for i in range(20)]\n",
    "\n",
    "print(numbers)"
   ]
  },
  {
   "cell_type": "markdown",
   "id": "529d91ae",
   "metadata": {},
   "source": [
    "# Exercise 01\n",
    "Define a function that takes an integer as input, prints  all integers that it is divisable by, and returns the largest one."
   ]
  },
  {
   "cell_type": "code",
   "execution_count": 6,
   "id": "30e79132",
   "metadata": {},
   "outputs": [
    {
     "name": "stdout",
     "output_type": "stream",
     "text": [
      "1\n",
      "2\n",
      "4\n",
      "7\n",
      "14\n",
      "28\n",
      "The largest divisor is: 28\n"
     ]
    }
   ],
   "source": [
    "def divisors_and_largest(n):\n",
    "    divisors = []\n",
    "    \n",
    "    for i in range(1, n + 1):\n",
    "        if n % i == 0:\n",
    "            divisors.append(i)\n",
    "            print(i)\n",
    "\n",
    "    return max(divisors) if divisors else None\n",
    "\n",
    "result = divisors_and_largest(28)\n",
    "print(f\"The largest divisor is: {result}\")"
   ]
  },
  {
   "cell_type": "markdown",
   "id": "cfbe30d4",
   "metadata": {},
   "source": [
    "# Exercise 02\n",
    "- create a dictionary with 6 keys and values of your choice\n",
    "- write a function that takes a dictionary and a value as input and returns whether the value occurs as a key in the dictionary\n",
    "- write a function that takes a dictionary as input, and returns the dictionary but the keys are swapped with their values (resolve the issue if a value occurs twice!)"
   ]
  },
  {
   "cell_type": "code",
   "execution_count": 14,
   "id": "2123f1c6",
   "metadata": {},
   "outputs": [
    {
     "name": "stdout",
     "output_type": "stream",
     "text": [
      "Is 'banana' a key? True\n",
      "Swapped Dictionary: {1: 'apple', 2: 'banana', 3: 'pear', 4: 'strawberry', 5: 'blueberry', 6: 'fig'}\n"
     ]
    }
   ],
   "source": [
    "my_dict = {\n",
    "    'apple': 1,\n",
    "    'banana': 2,\n",
    "    'pear': 3,\n",
    "    'strawberry': 4,\n",
    "    'blueberry': 5,\n",
    "    'fig': 6\n",
    "}\n",
    "\n",
    "def is_value_key(dictionary, value):\n",
    "    return value in dictionary\n",
    "\n",
    "def swap_keys_and_values(dictionary):\n",
    "    swapped = {}\n",
    "    for key, value in dictionary.items():\n",
    "        if value not in swapped:\n",
    "            swapped[value] = key  # Store the first key found for the value\n",
    "        else:\n",
    "       \n",
    "            if isinstance(swapped[value], list):\n",
    "                swapped[value].append(key)\n",
    "            else:\n",
    "                swapped[value] = [swapped[value], key]\n",
    "    return swapped\n",
    "\n",
    "\n",
    "value_to_check = 'banana'\n",
    "print(f\"Is '{value_to_check}' a key? {is_value_key(my_dict, value_to_check)}\")\n",
    "\n",
    "swapped_dict = swap_keys_and_values(my_dict)\n",
    "print(\"Swapped Dictionary:\", swapped_dict)"
   ]
  },
  {
   "cell_type": "markdown",
   "id": "b4b4e426",
   "metadata": {},
   "source": [
    "# Exercise 03\n",
    "Define a function that creates a dictionary of the first n fibonacci numbers as values paired with their indices as keys. "
   ]
  },
  {
   "cell_type": "code",
   "execution_count": 10,
   "id": "7845b5a4",
   "metadata": {},
   "outputs": [
    {
     "name": "stdout",
     "output_type": "stream",
     "text": [
      "{0: 0, 1: 1, 2: 1, 3: 2, 4: 3, 5: 5, 6: 8, 7: 13, 8: 21, 9: 34}\n"
     ]
    }
   ],
   "source": [
    "def fibonacci_dict(n):\n",
    "    fib_dict = {}\n",
    "    a, b = 0, 1  # Starting values for Fibonacci sequence\n",
    "    for i in range(n):\n",
    "        fib_dict[i] = a  # Store the Fibonacci number with its index\n",
    "        a, b = b, a + b  # Update to the next Fibonacci numbers\n",
    "    return fib_dict\n",
    "\n",
    "n = 10\n",
    "result = fibonacci_dict(n)\n",
    "print(result)"
   ]
  },
  {
   "cell_type": "code",
   "execution_count": null,
   "id": "115e1a93-8461-401b-afcf-9bca6fec1f0d",
   "metadata": {},
   "outputs": [],
   "source": []
  }
 ],
 "metadata": {
  "kernelspec": {
   "display_name": "Python 3 (ipykernel)",
   "language": "python",
   "name": "python3"
  },
  "language_info": {
   "codemirror_mode": {
    "name": "ipython",
    "version": 3
   },
   "file_extension": ".py",
   "mimetype": "text/x-python",
   "name": "python",
   "nbconvert_exporter": "python",
   "pygments_lexer": "ipython3",
   "version": "3.12.4"
  }
 },
 "nbformat": 4,
 "nbformat_minor": 5
}
