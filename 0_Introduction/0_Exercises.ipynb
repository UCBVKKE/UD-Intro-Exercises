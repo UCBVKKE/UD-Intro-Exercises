{
 "cells": [
  {
   "cell_type": "markdown",
   "id": "529d91ae",
   "metadata": {
    "tags": []
   },
   "source": [
    "# Exercise 00\n",
    "Write a bit of code that prints _Introduction to Programming_ to the console and execute the cell"
   ]
  },
  {
   "cell_type": "code",
   "execution_count": 6,
   "id": "98711beb",
   "metadata": {},
   "outputs": [
    {
     "name": "stdout",
     "output_type": "stream",
     "text": [
      "Introduction to Programming\n"
     ]
    }
   ],
   "source": [
    "print(\"Introduction to Programming\")"
   ]
  },
  {
   "cell_type": "markdown",
   "id": "63ad5023",
   "metadata": {},
   "source": [
    "-----------------------------------------------------------------------------\n",
    "# Exercise 01\n",
    "Hello World is traditionally the first program anyone writes. It is\n",
    "very simple and the only thing it should do is print Hello World! to the\n",
    "terminal window.\n",
    "Create a file called HelloWorld.py and edit the contents so it prints Hello World! to the terminal and execute it using the command line."
   ]
  },
  {
   "cell_type": "markdown",
   "id": "a4a7c4c2",
   "metadata": {},
   "source": [
    "-----------------------------------------------------------------------------\n",
    "# Exercise 02\n",
    "Write some code to print your name, email, and age on separate lines. For each element first assign it to a variable and use the variable to print. \n",
    "\n",
    "Bonus: try to create the print statement for all variable in one line of code. (hint: '\\n' is the character for a new line)"
   ]
  },
  {
   "cell_type": "code",
   "execution_count": 8,
   "id": "fc8fface",
   "metadata": {},
   "outputs": [],
   "source": [
    "name = \"Kamilya\"\n",
    "email = \"ucbvkke@ucl.ac.uk\"\n",
    "age = 24\n"
   ]
  },
  {
   "cell_type": "code",
   "execution_count": 10,
   "id": "1e224e44-a821-4355-85e4-e7bc9d243600",
   "metadata": {},
   "outputs": [
    {
     "name": "stdout",
     "output_type": "stream",
     "text": [
      "Kamilya\n",
      "ucbvkke@ucl.ac.uk\n",
      "24\n"
     ]
    }
   ],
   "source": [
    "print(name)\n",
    "print(email)\n",
    "print(age)"
   ]
  },
  {
   "cell_type": "code",
   "execution_count": 12,
   "id": "94b42da3-6dc5-4d88-90da-8ff482fb7121",
   "metadata": {},
   "outputs": [
    {
     "name": "stdout",
     "output_type": "stream",
     "text": [
      "Kamilya\n",
      "ucbvkke@ucl.ac.uk\n",
      "24\n"
     ]
    }
   ],
   "source": [
    "print(name + '\\n' + email + '\\n' + str(age))"
   ]
  },
  {
   "cell_type": "markdown",
   "id": "0dd1c1d1",
   "metadata": {},
   "source": [
    "-----------------------------------------------------------------------------\n",
    "# Exercise 03\n",
    "Print the numbers 0, 178, -21, 2938 divided by 49, 436 multiplied with 9948 and 12 to the power of 20\n",
    "\n",
    "(Hint: Look up the documentation of basic arithmetic operators)"
   ]
  },
  {
   "cell_type": "code",
   "execution_count": 14,
   "id": "f3d5d009",
   "metadata": {},
   "outputs": [],
   "source": [
    "numbers = [0, 178, -21, 2938]\n",
    "divisor = 49\n",
    "multiplier = 436\n",
    "exponent_base = 12\n",
    "exponent = 20"
   ]
  },
  {
   "cell_type": "code",
   "execution_count": 16,
   "id": "b12c9b9c-190c-4b9b-9623-48ac3afee85d",
   "metadata": {},
   "outputs": [],
   "source": [
    "divided_results = [num / divisor for num in numbers]\n",
    "multiplied_result = multiplier * 9948\n",
    "power_result = exponent_base ** exponent"
   ]
  },
  {
   "cell_type": "code",
   "execution_count": 18,
   "id": "312e6f4e-1bae-45a3-b2bc-a84b7b7f4837",
   "metadata": {},
   "outputs": [
    {
     "name": "stdout",
     "output_type": "stream",
     "text": [
      "Results of dividing numbers by 49:\n",
      "0.0\n",
      "3.63265306122449\n",
      "-0.42857142857142855\n",
      "59.95918367346939\n",
      "\n",
      "Result of 436 multiplied by 9948:\n",
      "4337328\n",
      "\n",
      "Result of 12 to the power of 20:\n",
      "3833759992447475122176\n"
     ]
    }
   ],
   "source": [
    "print(\"Results of dividing numbers by 49:\")\n",
    "for result in divided_results:\n",
    "    print(result)\n",
    "\n",
    "print(\"\\nResult of 436 multiplied by 9948:\")\n",
    "print(multiplied_result)\n",
    "\n",
    "print(\"\\nResult of 12 to the power of 20:\")\n",
    "print(power_result)"
   ]
  },
  {
   "cell_type": "markdown",
   "id": "1f151455",
   "metadata": {},
   "source": [
    "-----------------------------------------------------------------------------\n",
    "# Exercise 04\n",
    "Print sin(200), cos(100), tan($\\pi$/4)\n",
    "\n",
    "(Hint: Look up for how to use trigonometric function, and how to get the value of $\\pi$.)"
   ]
  },
  {
   "cell_type": "code",
   "execution_count": 20,
   "id": "d0e37690",
   "metadata": {},
   "outputs": [
    {
     "name": "stdout",
     "output_type": "stream",
     "text": [
      "sin(200°): -0.34202014332566866\n",
      "cos(100°): -0.1736481776669303\n",
      "tan(π/4): 0.9999999999999999\n"
     ]
    }
   ],
   "source": [
    "import math\n",
    "\n",
    "sin_value = math.sin(math.radians(200))  \n",
    "cos_value = math.cos(math.radians(100)) \n",
    "tan_value = math.tan(math.pi / 4)         \n",
    "\n",
    "print(\"sin(200°):\", sin_value)\n",
    "print(\"cos(100°):\", cos_value)\n",
    "print(\"tan(π/4):\", tan_value)"
   ]
  },
  {
   "cell_type": "markdown",
   "id": "9d026820",
   "metadata": {},
   "source": [
    "-----------------------------------------------------------------------------\n",
    "# Exercise 05\n",
    "Write a program to read your first and last names from the console seperately, and then print them on the console together, separated by a space."
   ]
  },
  {
   "cell_type": "code",
   "execution_count": 28,
   "id": "4c7217e0",
   "metadata": {},
   "outputs": [],
   "source": [
    "first_name = \"Kamilya\"\n",
    "last_name = \"Kelbuganova\""
   ]
  },
  {
   "cell_type": "code",
   "execution_count": 30,
   "id": "6627252a-6f54-4ba3-9212-f2a6584fdead",
   "metadata": {},
   "outputs": [],
   "source": [
    "full_name = first_name + \" \" + last_name"
   ]
  },
  {
   "cell_type": "code",
   "execution_count": 32,
   "id": "974213d4-b3af-4bac-8d59-2bd33fdee84f",
   "metadata": {},
   "outputs": [
    {
     "name": "stdout",
     "output_type": "stream",
     "text": [
      "Full name: Kamilya Kelbuganova\n"
     ]
    }
   ],
   "source": [
    "print(\"Full name:\", full_name) "
   ]
  },
  {
   "cell_type": "markdown",
   "id": "e83fa346",
   "metadata": {},
   "source": [
    "-----------------------------------------------------------------------------\n",
    "# Exercise 06\n",
    "Write a program that determines whether a number given as user input is positive or negative\n",
    " \n",
    "You will need to convert the console input from a string to a number first!"
   ]
  },
  {
   "cell_type": "code",
   "execution_count": null,
   "id": "ecd924c2",
   "metadata": {},
   "outputs": [],
   "source": [
    "user_input = input(\"Enter the number 35: 35 \")\n",
    "\n",
    "number = float(user_input)\n",
    "\n",
    "if number > 0:\n",
    "    print(\"The number is positive.\")\n",
    "elif number < 0:\n",
    "    print(\"The number is negative.\")\n",
    "else:\n",
    "    print(\"The number is zero.\")"
   ]
  },
  {
   "cell_type": "markdown",
   "id": "2a192596",
   "metadata": {},
   "source": [
    "-----------------------------------------------------------------------------\n",
    "# Exercise 07\n",
    "Write a program that picks a random number between 1-20 and makes the user guess until they get the number right. Then print a congratulations message\n",
    "- (Find out yourself how to generate a random integer)\n",
    "- Bonus: make the user choose the range within which they have to guess\n",
    "- Bonus: keep track of how many guesses were made and print this at the end"
   ]
  },
  {
   "cell_type": "code",
   "execution_count": null,
   "id": "70358dd3",
   "metadata": {},
   "outputs": [],
   "source": [
    "import random\n",
    "\n",
    "lower_bound = int(input(\"Enter the lower bound: \"))\n",
    "upper_bound = int(input(\"Enter the upper bound: \"))\n",
    "\n",
    "if lower_bound >= upper_bound:\n",
    "    print(\"The lower bound must be less than the upper bound.\")\n",
    "else:\n",
    "    random_number = random.randint(lower_bound, upper_bound)\n",
    "\n",
    "    guess_count = 0\n",
    "\n",
    "    while True:\n",
    "        guess = int(input(f\"Guess a number between {lower_bound} and {upper_bound}: \"))\n",
    "        guess_count += 1  \n",
    "        \n",
    "        if guess < random_number:\n",
    "            print(\"Too low! Try again.\")\n",
    "        elif guess > random_number:\n",
    "            print(\"Too high! Try again.\")\n",
    "        else:\n",
    "            print(f\"Congratulations! You've guessed the number {random_number} in {guess_count} tries.\")\n",
    "            break"
   ]
  },
  {
   "cell_type": "markdown",
   "id": "d53b9c07",
   "metadata": {},
   "source": [
    "-----------------------------------------------------------------------------\n",
    "# Exercise 08\n",
    "Ask a sentence as input, then print the words in alphabetical order.\n",
    "Hint: look up how to split up a string"
   ]
  },
  {
   "cell_type": "code",
   "execution_count": null,
   "id": "b6524cf5",
   "metadata": {},
   "outputs": [],
   "source": [
    "sentence = input(\"I am on my way to work\")\n",
    "\n",
    "words = sentence.split()\n",
    "\n",
    "sorted_words = sorted(words)\n",
    "\n",
    "\n",
    "print(\"Words in alphabetical order:\")\n",
    "for word in sorted_words:\n",
    "    print(word)"
   ]
  },
  {
   "cell_type": "markdown",
   "id": "09a7b060",
   "metadata": {},
   "source": [
    "-----------------------------------------------------------------------------\n",
    "# Exercise 09\n",
    "Write a program using for loops to print a christmas tree of x lines high\n",
    "specified by the user.\n",
    "(use for loops)\n",
    "so for instance, a chrismas tree of 4 high should looks like this:\n",
    "\n",
    "```\n",
    "\n",
    "    *\n",
    "   ***\n",
    "  *****\n",
    " *******\n",
    "    |\n",
    "\n",
    "```\n",
    "\n",
    "hint: first combine strings into a variable before printing"
   ]
  },
  {
   "cell_type": "code",
   "execution_count": 46,
   "id": "5150f7a4",
   "metadata": {
    "scrolled": true
   },
   "outputs": [
    {
     "name": "stdin",
     "output_type": "stream",
     "text": [
      "Enter the height of the Christmas tree: 4 4\n"
     ]
    },
    {
     "name": "stdout",
     "output_type": "stream",
     "text": [
      "   *\n",
      "  ***\n",
      " *****\n",
      "*******\n",
      "   |\n",
      "\n"
     ]
    }
   ],
   "source": [
    "height = int(input(\"Enter the height of the Christmas tree: 5\"))\n",
    "\n",
    "tree = \"\"\n",
    "\n",
    "for i in range(height):\n",
    "\n",
    "    spaces = ' ' * (height - i - 1)  \n",
    "    stars = '*' * (2 * i + 1)       \n",
    "  \n",
    "    tree += spaces + stars + '\\n'\n",
    "\n",
    "\n",
    "trunk_spaces = ' ' * (height - 1)  \n",
    "tree += trunk_spaces + '|' + '\\n'\n",
    "\n",
    "\n",
    "print(tree)"
   ]
  },
  {
   "cell_type": "markdown",
   "id": "07f67531",
   "metadata": {},
   "source": [
    "-----------------------------------------------------------------------------\n",
    "# Exercise 10\n",
    "Write a piece of code that prints the first $n$ numbers of the padovan sequence"
   ]
  },
  {
   "cell_type": "code",
   "execution_count": 38,
   "id": "d301c61b",
   "metadata": {},
   "outputs": [
    {
     "name": "stdout",
     "output_type": "stream",
     "text": [
      "First 10 numbers of the Padovan sequence: [1, 1, 1, 2, 2, 3, 4, 5, 7, 9]\n"
     ]
    }
   ],
   "source": [
    "def padovan(n):\n",
    "    # Initialize the first three numbers of the sequence\n",
    "    sequence = [1, 1, 1]\n",
    "    \n",
    "    # Calculate Padovan numbers up to the nth term\n",
    "    for i in range(3, n):\n",
    "        next_value = sequence[i-2] + sequence[i-3]\n",
    "        sequence.append(next_value)\n",
    "    \n",
    "    return sequence[:n]\n",
    "\n",
    "# Specify how many terms to print\n",
    "num_terms = 10\n",
    "padovan_sequence = padovan(num_terms)\n",
    "\n",
    "# Print the Padovan sequence\n",
    "print(\"First\", num_terms, \"numbers of the Padovan sequence:\", padovan_sequence)"
   ]
  },
  {
   "cell_type": "code",
   "execution_count": null,
   "id": "e9268c97-51c0-477f-af00-64796180c3f4",
   "metadata": {},
   "outputs": [],
   "source": []
  }
 ],
 "metadata": {
  "kernelspec": {
   "display_name": "Python 3 (ipykernel)",
   "language": "python",
   "name": "python3"
  },
  "language_info": {
   "codemirror_mode": {
    "name": "ipython",
    "version": 3
   },
   "file_extension": ".py",
   "mimetype": "text/x-python",
   "name": "python",
   "nbconvert_exporter": "python",
   "pygments_lexer": "ipython3",
   "version": "3.12.4"
  }
 },
 "nbformat": 4,
 "nbformat_minor": 5
}
